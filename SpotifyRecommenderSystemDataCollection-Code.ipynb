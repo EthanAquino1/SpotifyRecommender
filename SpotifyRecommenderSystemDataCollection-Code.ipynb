{
 "cells": [
  {
   "cell_type": "code",
   "execution_count": null,
   "id": "b4508fc1",
   "metadata": {},
   "outputs": [],
   "source": [
    "!pip install spotipy"
   ]
  },
  {
   "cell_type": "code",
   "execution_count": null,
   "id": "9a87932b",
   "metadata": {},
   "outputs": [],
   "source": [
    "import time\n",
    "import spotipy\n",
    "import requests\n",
    "import urllib3\n",
    "import pandas as pd\n",
    "from spotipy.oauth2 import SpotifyClientCredentials\n",
    "from spotipy import SpotifyOAuth\n",
    "from spotipy.exceptions import SpotifyException"
   ]
  },
  {
   "cell_type": "code",
   "execution_count": null,
   "id": "839679d5",
   "metadata": {},
   "outputs": [],
   "source": [
    "#This is where the token information goes in"
   ]
  },
  {
   "cell_type": "code",
   "execution_count": null,
   "id": "70f22dbf",
   "metadata": {},
   "outputs": [],
   "source": [
    "client_id = \"XXXX\"\n",
    "client_secret = \"XXXX\"\n",
    "redirect_uri= \"http://localhost:XXXX/callback/\"\n",
    "username = 'XXXX'\n",
    "scope = 'user-top-read playlist-modify-private playlist-modify-public playlist-read-private playlist-read-collaborative user-library-read playlist-read-private'\n"
   ]
  },
  {
   "cell_type": "code",
   "execution_count": null,
   "id": "cfaa9da6",
   "metadata": {},
   "outputs": [],
   "source": [
    "#Creating the token"
   ]
  },
  {
   "cell_type": "code",
   "execution_count": null,
   "id": "a4e49a42",
   "metadata": {},
   "outputs": [],
   "source": [
    "sp = spotipy.Spotify(auth_manager=SpotifyOAuth(client_id=client_id,client_secret=client_secret,redirect_uri=redirect_uri, scope=scope))\n",
    "                     "
   ]
  },
  {
   "cell_type": "code",
   "execution_count": null,
   "id": "da455148",
   "metadata": {},
   "outputs": [],
   "source": [
    "#This is to to test API rate limiting, if you get rate limited and code stops running this is ran to be able\n",
    "#to see how much time is left until you can call the API again. "
   ]
  },
  {
   "cell_type": "code",
   "execution_count": null,
   "id": "887bd723",
   "metadata": {},
   "outputs": [],
   "source": [
    "client_credentials_manager = SpotifyClientCredentials(client_id=client_id, client_secret=client_secret)\n",
    "\n",
    "session = requests.Session()\n",
    "retry = urllib3.Retry(\n",
    "    respect_retry_after_header=False\n",
    ")\n",
    "adapter = requests.adapters.HTTPAdapter(max_retries=retry)\n",
    "\n",
    "sp = spotipy.Spotify(auth_manager=client_credentials_manager,\n",
    "                     requests_session=session)\n",
    "\n",
    "i = 0\n",
    "while True:\n",
    "    try:\n",
    "        res = sp.track('spotify:track:3HPHPoXFupNZXfnFXmiJI5')\n",
    "    except SpotifyException as e:\n",
    "        if e.http_status == 429:\n",
    "            print(\"'retry-after' value:\", e.headers['retry-after'])\n",
    "            time.sleep(1)\n",
    "        else:\n",
    "            break\n",
    "    print(res['uri'], str(i))\n",
    "    i += 1"
   ]
  },
  {
   "cell_type": "code",
   "execution_count": null,
   "id": "5ef6c870",
   "metadata": {},
   "outputs": [],
   "source": [
    "#Spotify Playlists"
   ]
  },
  {
   "cell_type": "code",
   "execution_count": null,
   "id": "122e9c71",
   "metadata": {},
   "outputs": [],
   "source": [
    "playlists_total = sp.user_playlists('spotify')\n",
    "spotify_playlist_ids = []\n",
    "while playlists_total:\n",
    "    for i, playlist in enumerate(playlists_total['items']):\n",
    "        spotify_playlist_ids.append(playlist['uri'][-22:])\n",
    "    if playlists_total['next']:\n",
    "        playlists_total = sp.next(playlists_total)\n",
    "    else:\n",
    "        playlists_total = None\n",
    "\n",
    "spotify_playlist_ids[:20]"
   ]
  },
  {
   "cell_type": "code",
   "execution_count": null,
   "id": "59922f7b",
   "metadata": {},
   "outputs": [],
   "source": [
    "len(spotify_playlist_ids)"
   ]
  },
  {
   "cell_type": "code",
   "execution_count": null,
   "id": "f22db590",
   "metadata": {},
   "outputs": [],
   "source": [
    "#My Playlists"
   ]
  },
  {
   "cell_type": "code",
   "execution_count": null,
   "id": "2367964f",
   "metadata": {},
   "outputs": [],
   "source": [
    "playlists = sp.current_user_playlists()"
   ]
  },
  {
   "cell_type": "code",
   "execution_count": null,
   "id": "6e0ec37c",
   "metadata": {},
   "outputs": [],
   "source": [
    "playlist_id_me = [\"4BFmMCmr1lbWgC10XepNic\"]"
   ]
  },
  {
   "cell_type": "code",
   "execution_count": null,
   "id": "2a9f97d1",
   "metadata": {},
   "outputs": [],
   "source": [
    "#My Songs"
   ]
  },
  {
   "cell_type": "code",
   "execution_count": null,
   "id": "92c5d2f1",
   "metadata": {},
   "outputs": [],
   "source": [
    "my_ids = []\n",
    "def track_ids(playlist_id):\n",
    "    playlist1 = sp.user_playlist('footballer100', playlist_id)\n",
    "    for x in playlist1['tracks']['items'][:100]:\n",
    "        track = x['track']\n",
    "        if track is not None and 'id' in track:\n",
    "            my_ids.append(track['id'])\n",
    "        else:\n",
    "            print(\"Track ID not available\")\n",
    "        \n",
    "for playlist_id in playlist_id_me:\n",
    "    if playlist_id is not None:\n",
    "        track_ids(playlist_id)\n",
    "    else:\n",
    "        continue\n",
    "    \n",
    "len(my_ids)"
   ]
  },
  {
   "cell_type": "code",
   "execution_count": null,
   "id": "4e62c4af",
   "metadata": {},
   "outputs": [],
   "source": [
    "#Spotify Songs"
   ]
  },
  {
   "cell_type": "code",
   "execution_count": null,
   "id": "f300ce9e",
   "metadata": {
    "scrolled": true
   },
   "outputs": [],
   "source": [
    "ids = []\n",
    "def track_ids(playlist_id):\n",
    "    playlist1 = sp.user_playlist('spotify', playlist_id)\n",
    "    for x in playlist1['tracks']['items'][:50]:\n",
    "        track = x['track']\n",
    "        if track is not None and 'id' in track:\n",
    "            ids.append(track['id'])\n",
    "        else:\n",
    "            print(\"Track ID not available\")\n",
    "        \n",
    "for playlist_id in spotify_playlist_ids[:200]:\n",
    "    if playlist_id is not None:\n",
    "        track_ids(playlist_id)\n",
    "    else:\n",
    "        continue\n",
    "    \n",
    "len(ids)\n"
   ]
  },
  {
   "cell_type": "code",
   "execution_count": null,
   "id": "54d5f7bb",
   "metadata": {},
   "outputs": [],
   "source": [
    "#Getting Spotify Song Features, and putting it in dataframe"
   ]
  },
  {
   "cell_type": "code",
   "execution_count": null,
   "id": "a1339759",
   "metadata": {},
   "outputs": [],
   "source": [
    "import time\n",
    "\n",
    "def getTrackFeaturesBatch(track_ids):\n",
    "    tracks = sp.tracks(track_ids)['tracks']\n",
    "    features = sp.audio_features(track_ids)\n",
    "\n",
    "    track_features = []\n",
    "    for i in range(len(tracks)):\n",
    "        track = tracks[i]\n",
    "        feature = features[i]\n",
    "        if track and feature is not None and 'acousticness' in feature:\n",
    "\n",
    "            track_id = track['id']\n",
    "            name = track['name']\n",
    "            album = track['album']['name']\n",
    "            artist = track['album']['artists'][0]['name']\n",
    "            release_date = track['album']['release_date']\n",
    "            length = track['duration_ms']\n",
    "            popularity = track['popularity']\n",
    "\n",
    "            acousticness = feature['acousticness']\n",
    "            danceability = feature['danceability']\n",
    "            energy = feature['energy']\n",
    "            instrumentalness = feature['instrumentalness']\n",
    "            liveness = feature['liveness']\n",
    "            loudness = feature['loudness']\n",
    "            speechiness = feature['speechiness']\n",
    "            tempo = feature['tempo']\n",
    "            time_signature = feature['time_signature']\n",
    "\n",
    "            track_info = [track_id, name, album, artist, release_date, length, popularity,\n",
    "                          danceability, acousticness, energy, instrumentalness,\n",
    "                          liveness, loudness, speechiness, tempo, time_signature]\n",
    "\n",
    "            track_features.append(track_info)\n",
    "        \n",
    "        else:\n",
    "            print(\"Features not available\")\n",
    "\n",
    "    return track_features\n",
    "\n",
    "batch_size = 50\n",
    "request_interval = 2  \n",
    "\n",
    "tracks_test = []\n",
    "for i in range(0, len(ids), batch_size):\n",
    "    batch_ids = ids[i:i+batch_size]\n",
    "    batch_tracks = getTrackFeaturesBatch(batch_ids)\n",
    "    tracks_test.extend(batch_tracks)\n",
    "    print(f\"Processing tracks {i+1}-{i+len(batch_tracks)}\")\n",
    "\n",
    "    time.sleep(request_interval)\n",
    "\n",
    "print(\"All tracks processed successfully.\")\n"
   ]
  },
  {
   "cell_type": "code",
   "execution_count": null,
   "id": "3067c891",
   "metadata": {},
   "outputs": [],
   "source": [
    "df = pd.DataFrame(tracks_test, columns = ['track_id', 'name', 'album', 'artist', 'release_date', 'length', 'popularity', 'danceability', 'acousticness', 'energy', 'instrumentalness', 'liveness', 'loudness', 'speechiness', 'tempo', 'time_signature'])\n",
    "df.to_csv('playlist_songs_spotify.csv',index=False)\n"
   ]
  },
  {
   "cell_type": "code",
   "execution_count": null,
   "id": "a02b9819",
   "metadata": {},
   "outputs": [],
   "source": [
    "df = pd.read_csv('playlist_songs_spotify.csv')"
   ]
  },
  {
   "cell_type": "code",
   "execution_count": null,
   "id": "efead23b",
   "metadata": {},
   "outputs": [],
   "source": [
    "df"
   ]
  },
  {
   "cell_type": "code",
   "execution_count": null,
   "id": "343398cc",
   "metadata": {},
   "outputs": [],
   "source": [
    "#Taking ids for all the songs and now getting genre and artist data, then putting them into a datafram"
   ]
  },
  {
   "cell_type": "code",
   "execution_count": null,
   "id": "4f970ac9",
   "metadata": {},
   "outputs": [],
   "source": [
    "ids_real = []\n",
    "for x in df['track_id']:\n",
    "    ids_real.append(x)"
   ]
  },
  {
   "cell_type": "code",
   "execution_count": null,
   "id": "87180c4f",
   "metadata": {},
   "outputs": [],
   "source": [
    "len(ids_real)"
   ]
  },
  {
   "cell_type": "code",
   "execution_count": null,
   "id": "52b8f048",
   "metadata": {},
   "outputs": [],
   "source": [
    "import pandas as pd\n",
    "import time\n",
    "\n",
    "def get_track_genres(track_ids, save_file):\n",
    "    data = []\n",
    "    \n",
    "    for i in range(0, len(track_ids), 50):\n",
    "        print(f\"Processing batch {i//50+1} of {len(track_ids)//50+1}\")\n",
    "        batch_track_info = sp.tracks(track_ids[i:i+50])\n",
    "        \n",
    "        for track_info in batch_track_info['tracks']:\n",
    "            track_id = track_info['id']\n",
    "            \n",
    "            artist_id = track_info['artists'][0]['id']  \n",
    "            \n",
    "            artist_info = sp.artist(artist_id)\n",
    "            genres = artist_info['genres']\n",
    "            followers = artist_info['followers']['total']\n",
    "            popularity = artist_info['popularity']\n",
    "            \n",
    "            data.append({'track_id': track_id, 'genres': genres, 'followers': followers, 'popularity': popularity})\n",
    "            print(f\"Processed {track_info}\")\n",
    "            time.sleep(2)\n",
    "            \n",
    "        time.sleep(2)\n",
    "        \n",
    "        df = pd.DataFrame(data)\n",
    "        df.to_csv(save_file, index=False)\n",
    "        \n",
    "    \n",
    "    df = pd.DataFrame(data)\n",
    "    return df\n",
    "\n",
    "\n",
    "save_file = 'progress.csv'\n",
    "df1 = get_track_genres(ids_real, save_file)\n",
    "\n"
   ]
  },
  {
   "cell_type": "code",
   "execution_count": null,
   "id": "6ebd9d48",
   "metadata": {},
   "outputs": [],
   "source": [
    "df1.to_csv('track_genres.csv', index=False)\n"
   ]
  },
  {
   "cell_type": "code",
   "execution_count": null,
   "id": "b76e3054",
   "metadata": {},
   "outputs": [],
   "source": [
    "#Getting My Song Features, and putting it in dataframe"
   ]
  },
  {
   "cell_type": "code",
   "execution_count": null,
   "id": "be041bbc",
   "metadata": {},
   "outputs": [],
   "source": [
    "import time\n",
    "\n",
    "def getTrackFeaturesBatch(track_ids):\n",
    "    tracks = sp.tracks(track_ids)['tracks']\n",
    "    features = sp.audio_features(track_ids)\n",
    "\n",
    "    track_features = []\n",
    "    for i in range(len(tracks)):\n",
    "        track = tracks[i]\n",
    "        feature = features[i]\n",
    "        if track and feature is not None and 'acousticness' in feature:\n",
    "\n",
    "            track_id = track['id']\n",
    "            name = track['name']\n",
    "            album = track['album']['name']\n",
    "            artist = track['album']['artists'][0]['name']\n",
    "            release_date = track['album']['release_date']\n",
    "            length = track['duration_ms']\n",
    "            popularity = track['popularity']\n",
    "\n",
    "            acousticness = feature['acousticness']\n",
    "            danceability = feature['danceability']\n",
    "            energy = feature['energy']\n",
    "            instrumentalness = feature['instrumentalness']\n",
    "            liveness = feature['liveness']\n",
    "            loudness = feature['loudness']\n",
    "            speechiness = feature['speechiness']\n",
    "            tempo = feature['tempo']\n",
    "            time_signature = feature['time_signature']\n",
    "\n",
    "            track_info = [track_id, name, album, artist, release_date, length, popularity,\n",
    "                          danceability, acousticness, energy, instrumentalness,\n",
    "                          liveness, loudness, speechiness, tempo, time_signature]\n",
    "\n",
    "            track_features.append(track_info)\n",
    "        \n",
    "        else:\n",
    "            print(\"Features not available\")\n",
    "\n",
    "    return track_features\n",
    "\n",
    "batch_size = 50\n",
    "request_interval = 2 \n",
    "\n",
    "my_tracks = []\n",
    "for i in range(0, len(my_ids), batch_size):\n",
    "    batch_ids = my_ids[i:i+batch_size]\n",
    "    batch_tracks = getTrackFeaturesBatch(batch_ids)\n",
    "    my_tracks.extend(batch_tracks)\n",
    "    print(f\"Processing tracks {i+1}-{i+len(batch_tracks)}\")\n",
    "\n",
    "    time.sleep(request_interval)\n",
    "\n",
    "print(\"All tracks processed successfully.\")"
   ]
  },
  {
   "cell_type": "code",
   "execution_count": null,
   "id": "5ad645ea",
   "metadata": {},
   "outputs": [],
   "source": [
    "df = pd.DataFrame(my_tracks, columns = ['track_id', 'name', 'album', 'artist', 'release_date', 'length', 'popularity', 'danceability', 'acousticness', 'energy', 'instrumentalness', 'liveness', 'loudness', 'speechiness', 'tempo', 'time_signature'])\n",
    "df.to_csv('my_spotify.csv',index=False)"
   ]
  },
  {
   "cell_type": "code",
   "execution_count": null,
   "id": "17f695ee",
   "metadata": {},
   "outputs": [],
   "source": [
    "df = pd.read_csv('my_spotify.csv')\n",
    "df"
   ]
  },
  {
   "cell_type": "code",
   "execution_count": null,
   "id": "a6c8633d",
   "metadata": {},
   "outputs": [],
   "source": [
    "#Taking ids for all the songs and now getting genre and artist data, then putting them into a datafram"
   ]
  },
  {
   "cell_type": "code",
   "execution_count": null,
   "id": "bc13dd9f",
   "metadata": {},
   "outputs": [],
   "source": [
    "import pandas as pd\n",
    "import time\n",
    "\n",
    "def get_track_genres(track_ids, save_file):\n",
    "    data = []\n",
    "    \n",
    "    for i in range(0, len(track_ids), 50):\n",
    "        print(f\"Processing batch {i//50+1} of {len(track_ids)//50+1}\")\n",
    "        batch_track_info = sp.tracks(track_ids[i:i+50])\n",
    "        \n",
    "        for track_info in batch_track_info['tracks']:\n",
    "            track_id = track_info['id']\n",
    "            \n",
    "            artist_id = track_info['artists'][0]['id']\n",
    "            \n",
    "            artist_info = sp.artist(artist_id)\n",
    "            genres = artist_info['genres']\n",
    "            followers = artist_info['followers']['total']\n",
    "            popularity = artist_info['popularity']\n",
    "            \n",
    "            data.append({'track_id': track_id, 'genres': genres, 'followers': followers, 'popularity': popularity})\n",
    "            print(f\"Processed {track_info}\")\n",
    "            time.sleep(2)\n",
    "            \n",
    "        time.sleep(2)\n",
    "        \n",
    "        df = pd.DataFrame(data)\n",
    "        df.to_csv(save_file, index=False)\n",
    "        \n",
    "    \n",
    "    df = pd.DataFrame(data)\n",
    "    return df\n",
    "\n",
    "\n",
    "save_file = 'progress_2.csv'\n",
    "df2 = get_track_genres(my_ids, save_file)"
   ]
  },
  {
   "cell_type": "code",
   "execution_count": null,
   "id": "509ccc9a",
   "metadata": {},
   "outputs": [],
   "source": [
    "df2.to_csv('my_genres.csv', index=False)"
   ]
  }
 ],
 "metadata": {
  "kernelspec": {
   "display_name": "Python 3 (ipykernel)",
   "language": "python",
   "name": "python3"
  },
  "language_info": {
   "codemirror_mode": {
    "name": "ipython",
    "version": 3
   },
   "file_extension": ".py",
   "mimetype": "text/x-python",
   "name": "python",
   "nbconvert_exporter": "python",
   "pygments_lexer": "ipython3",
   "version": "3.10.9"
  }
 },
 "nbformat": 4,
 "nbformat_minor": 5
}
